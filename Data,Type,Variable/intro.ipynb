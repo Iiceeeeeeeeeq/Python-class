{
 "cells": [
  {
   "cell_type": "markdown",
   "id": "92711ec0",
   "metadata": {},
   "source": [
    "Data , Type ,Variables"
   ]
  },
  {
   "cell_type": "markdown",
   "id": "a540b8ba",
   "metadata": {},
   "source": [
    "1. ตรวจสอบข้อมูลว่าตัวแปรเป็นข้อมูลชนิดใด type(ข้อมูลที่ต้องการตรวจสอบ)"
   ]
  },
  {
   "cell_type": "code",
   "execution_count": null,
   "id": "2ba03aa4",
   "metadata": {},
   "outputs": [],
   "source": [
    "a= 5\n",
    "b= 1.02345\n",
    "c= \"Hello\"\n",
    "d= [\"ice\",\"emma\"]\n",
    "e= {\"one\", \"two\"}\n",
    "f=(\"pink\", \"blue\")\n",
    "g = {\n",
    "    1: \"A\" ,\n",
    "    2: \"B+\" ,\n",
    "    3: \"C\" ,\n",
    "    4: \"C+\"\n",
    "}\n",
    "print(type(a),type(b),type(c),type(d),type(e),type(f),type(g))"
   ]
  },
  {
   "cell_type": "markdown",
   "id": "1747d634",
   "metadata": {},
   "source": [
    "2. การเเสดงผลของข้อมูล (Print)"
   ]
  },
  {
   "cell_type": "code",
   "execution_count": null,
   "id": "fa398a86",
   "metadata": {},
   "outputs": [],
   "source": [
    "print (\"i love\" , \"python\" , 1234 , sep=\"|\")\n",
    "print (\"i love\" , \"python\" , 1234 , sep=\"|\", end=\"|\")"
   ]
  },
  {
   "cell_type": "markdown",
   "id": "1d75438d",
   "metadata": {},
   "source": [
    "3.  index string แบบบวก เริ่มจาก 0,1,2,3,... แบบลบ -2,-1,0,....\n",
    "    lenght : len(สตริงที่การหาความยาว) len(ช่ื่อตัวแปรสตริง)"
   ]
  },
  {
   "cell_type": "code",
   "execution_count": null,
   "id": "1a49fc7d",
   "metadata": {},
   "outputs": [],
   "source": [
    "#Ex1\n",
    "msg = 'Hello'\n",
    "print(len(msg))\n",
    "\n",
    "# Ex2: ค้นหาตัวอักษรในสตริง [ตน.]\n",
    "chr1 = \"Hello\"\n",
    "print(\"Hello\"[0])\n",
    "print(\"Hello\"[4])\n",
    "print(chr1[-1])\n",
    "print(chr1[-5])\n",
    "\n",
    "# Ex3: ค้นหาตัวอักษรในสตริง [ตน.]\n",
    "\n",
    "chr2 = \"Hello Emma\"\n",
    "print(chr2[0:5])\n",
    "print(chr2[:5])\n",
    "print(chr2[5:])\n",
    "print(chr2[-13:-7])"
   ]
  },
  {
   "cell_type": "markdown",
   "id": "7fe24707",
   "metadata": {},
   "source": [
    "4. แสดงข้อมูลที่เป็นจริง (True) เท็จ (False)\n",
    "# 1. and (&) = True ก็ต่อเมื่อ A&B = True\n",
    "# 2. or (|) = True ก็ต่อเมื่อ A|B ไม่ A ก้อ B เป็นจริง\n",
    "# 3. not() = นิเสธ"
   ]
  },
  {
   "cell_type": "code",
   "execution_count": null,
   "id": "2c4e0743",
   "metadata": {},
   "outputs": [],
   "source": [
    "# ex.1\n",
    "a= 5<4\n",
    "b= 10>20\n",
    "print(a)\n",
    "print(b)\n",
    "print(a and b)\n",
    "print(a or b)\n",
    "print(not a)\n",
    "print(not b)\n",
    "\n",
    "#ex.2 เปลี่ยนคำสั่งจากอุปกรณ์เดิม ให้เป็นคำสั่งใหม่ของเราเอง\n",
    "#หลอดไฟทำงานมันขึ้น 0 \n",
    "#หลอดไฟไม่ทำงานมันขึ้น 1 \n",
    "\n",
    "ON = 0\n",
    "OFF = 1\n",
    "\n",
    "ON_Led = not ON\n",
    "print (ON_Led, \"ไฟเปิดอยู่\")\n",
    "OFF_Led = not OFF\n",
    "print (OFF_Led, \"ไฟดับจ้า\")"
   ]
  },
  {
   "cell_type": "markdown",
   "id": "8fc3cf5a",
   "metadata": {},
   "source": [
    "5.  removeprefix(prefix) - ตัดคำนำหน้าสตริง\n",
    "    removesuffix(suffix) - ตัดคำลงท้ายสตริง"
   ]
  },
  {
   "cell_type": "code",
   "execution_count": null,
   "id": "2bc61237",
   "metadata": {},
   "outputs": [],
   "source": [
    "a= \"HelloEmma\"\n",
    "result = a.removeprefix(\"Hello\")\n",
    "print(result)\n",
    "\n",
    "result = a.removesuffix(\"a\")\n",
    "print(result)"
   ]
  },
  {
   "cell_type": "markdown",
   "id": "a942034a",
   "metadata": {},
   "source": [
    "6. Arithmetric \n",
    "    - ตัวดำเนินการ  ตัวอย่าง  ผล\n",
    "    - + , -          5+2     7\n",
    "    - *              5*2     10\n",
    "    - **(ยกกำลัง)     5**2    25\n",
    "    - / (ไม่เอาเศษ)    7/2     3.5\n",
    "    - % (หารเอาเศษ)   7%2     1>>เศษจากการหาร\n",
    "    - // (หารไม่เอาเศษ) 7//2   3"
   ]
  },
  {
   "cell_type": "code",
   "execution_count": null,
   "id": "25db2863",
   "metadata": {},
   "outputs": [],
   "source": [
    "#Ex.1 หาด้าน c จากพีทากอรัส\n",
    "import math\n",
    "a = float(input())\n",
    "b = float(input())\n",
    "c = math.sqrt(a**2+b**2)\n",
    "print (c)"
   ]
  },
  {
   "cell_type": "markdown",
   "id": "80d6db22",
   "metadata": {},
   "source": [
    "7. tuple-เป็นการเก็บข้อมูลคล้ายลิสต์แต่จะไม่สามารถเปลี่ยนแปลงค่าของข้อมูลในลิสต์ได้"
   ]
  },
  {
   "cell_type": "code",
   "execution_count": null,
   "id": "cac91551",
   "metadata": {},
   "outputs": [],
   "source": [
    "shape_tuple1 = [\"square\",\"heart\",\"circle\",\"star\"]\n",
    "color_tuple2 = [\"black\",\"pink\",\"blue\",\"green\"]\n",
    "\n",
    "lenght = len(shape_tuple1)\n",
    "print(\"shape_tuple1=\",lenght)\n",
    "print(\"shape_tuple1[0]\",shape_tuple1[0])\n",
    "print(\"shape_tuple1[3]\",shape_tuple1[3])\n",
    "print(\"shape_tuple1[-1]\",shape_tuple1[-1])\n",
    "print(\"shape_tuple1[0:2]\",shape_tuple1[0:2])\n",
    "print(\"shape_tuple1[-2:]\",shape_tuple1[-2:])\n",
    "print(\"shape_tuple1[:3]\",shape_tuple1[:3])\n",
    "\n",
    "shape_color=shape_tuple1+color_tuple2\n",
    "print(shape_color)\n",
    "print(type(shape_tuple1))"
   ]
  },
  {
   "cell_type": "markdown",
   "id": "26943238",
   "metadata": {},
   "source": [
    "แบบฝึกหัด: เวกเตอร์\n",
    "    จงหาการ dot vector \n",
    "            u   = i + 2j + 3k\n",
    "            v   = 2i + 4j + 5k\n",
    "           u.v  = (1x2)+(2x4)+(3x5) = 2+8+15=25"
   ]
  },
  {
   "cell_type": "code",
   "execution_count": null,
   "id": "3e828950",
   "metadata": {},
   "outputs": [],
   "source": [
    "import math\n",
    "u = input()\n",
    "v = int(input())\n",
    "parts = u.split() #การเเยกค่าเเต่ละตัว\n",
    "print(parts)\n",
    "ui = int(parts[0])\n",
    "uj = int(parts[1])\n",
    "uk = int(parts[2])\n",
    "print(type(ui)) "
   ]
  },
  {
   "cell_type": "code",
   "execution_count": null,
   "id": "bec59172",
   "metadata": {},
   "outputs": [],
   "source": [
    "import math\n",
    "ui,uj,uk = [float(e) for e in input().split()]\n",
    "vi,vj,vk = [float(e) for e in input().split()]\n",
    "dot = (ui*vi)+(uj*vj)+(uk*vk)\n",
    "print(dot)"
   ]
  }
 ],
 "metadata": {
  "language_info": {
   "name": "python"
  }
 },
 "nbformat": 4,
 "nbformat_minor": 5
}
