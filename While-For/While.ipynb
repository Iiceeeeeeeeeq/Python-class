{
 "cells": [
  {
   "cell_type": "markdown",
   "id": "59e3e5fa",
   "metadata": {},
   "source": [
    "คำสั่งทำซ้ำ While คือการตรวจสอบเงื่อนไขก่อนทำงานเสมอ ถ้าเงื่อนไขเป็นจริงก็จะวนซ้ำทำงานไปเรื่อยๆ \n",
    "จนกระทั่งเงื่อนไขเป็นเท็จจีึงจะหยุดการทำงาน"
   ]
  },
  {
   "cell_type": "code",
   "execution_count": null,
   "id": "0e1059ab",
   "metadata": {},
   "outputs": [],
   "source": [
    "#Ex.1 -โปรแกรมแสดงเลขคี่ โดยใช้คำสั่งทำซ้ำ While\n",
    "i = 1\n",
    "while  i <=10:\n",
    "    print(i)\n",
    "    i += 2"
   ]
  },
  {
   "cell_type": "code",
   "execution_count": null,
   "id": "eb57514a",
   "metadata": {},
   "outputs": [],
   "source": [
    "# Ex.2 -โปรแกรมแสดงค่าตัวเลข 1-5 และหาผลบวกของเลข 1-5  โดยใช้คำสั่งทำซ้ำ While\n",
    "i = 1\n",
    "sum = 0\n",
    "while i <= 5 :\n",
    "    print(i)\n",
    "    sum = sum + i \n",
    "    i += 1\n",
    "print(sum)"
   ]
  },
  {
   "cell_type": "code",
   "execution_count": null,
   "id": "7eb82349",
   "metadata": {},
   "outputs": [],
   "source": [
    "# Ex.3 - โปรแกรมทายตัวเลข\n",
    "print(\"เกมส์ทายเลย 1-99\")\n",
    "guess_number = 0\n",
    "\n",
    "while int(guess_number) != 98:\n",
    "    guess_number = input(\"ตัวเลขที่จะทาย ?\")\n",
    "    if (int(guess_number)>98) :\n",
    "        print(\"เลขมากเกินไป!!!\")\n",
    "    elif (int(guess_number)<98) :\n",
    "        print(\"เลขน้อยเกินไป!!!\")\n",
    "    else :\n",
    "        print(\"ทายถูก\")"
   ]
  }
 ],
 "metadata": {
  "language_info": {
   "name": "python"
  }
 },
 "nbformat": 4,
 "nbformat_minor": 5
}
