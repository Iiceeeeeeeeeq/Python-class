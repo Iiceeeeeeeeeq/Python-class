{
 "cells": [
  {
   "cell_type": "markdown",
   "id": "ce2fbf4b",
   "metadata": {},
   "source": [
    "# for loop ใช้เพื่อรันบล็อกของโค้ดโดยมีจำนวนรอบที่แน่นอน ใช้เพื่อวนซ้ำประเภทข้อมูล\n",
    "# ที่เป็นแบบ sequence เช่น List, Tuple, Dictionary หรือ String เป็นต้น"
   ]
  },
  {
   "cell_type": "code",
   "execution_count": null,
   "id": "62179164",
   "metadata": {},
   "outputs": [],
   "source": [
    "emma = \"Emma\"\n",
    "for e in emma:\n",
    "    print(e)"
   ]
  },
  {
   "cell_type": "markdown",
   "id": "e9abfbd9",
   "metadata": {},
   "source": [
    "1. การใช้ for กับ list"
   ]
  },
  {
   "cell_type": "code",
   "execution_count": null,
   "id": "8abc62ac",
   "metadata": {},
   "outputs": [],
   "source": [
    "blackpink = [\n",
    "    \"Jenny\",\n",
    "    \"Lisa\",\n",
    "    \"Jisoo\",\n",
    "    \"Rose\"\n",
    "]\n",
    "for b in blackpink:\n",
    "    print(b)"
   ]
  },
  {
   "cell_type": "markdown",
   "id": "70b2cd87",
   "metadata": {},
   "source": [
    "2. การใช้ for กับ Dictionary"
   ]
  },
  {
   "cell_type": "code",
   "execution_count": null,
   "id": "c3b1c300",
   "metadata": {},
   "outputs": [],
   "source": [
    "pet = {\n",
    "    'C_name' : \"Uta\",\n",
    "    'D_name' : \"MhooYoung\"\n",
    "}\n",
    "for p in pet:\n",
    "    print(pet[p])"
   ]
  },
  {
   "cell_type": "markdown",
   "id": "42e9c3b2",
   "metadata": {},
   "source": [
    "3.  การใช้ for loop ร่วมกับ range()\n",
    "    range(start(number), stop(position), step)"
   ]
  },
  {
   "cell_type": "code",
   "execution_count": null,
   "id": "a602667a",
   "metadata": {},
   "outputs": [],
   "source": [
    "for i in range(3,10):\n",
    "    print (i)"
   ]
  }
 ],
 "metadata": {
  "language_info": {
   "name": "python"
  }
 },
 "nbformat": 4,
 "nbformat_minor": 5
}
