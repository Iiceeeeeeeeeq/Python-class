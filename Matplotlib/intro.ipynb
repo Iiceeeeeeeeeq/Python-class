{
 "cells": [
  {
   "cell_type": "markdown",
   "id": "bceaaa6b",
   "metadata": {},
   "source": [
    "คำสั่งสร้างกราฟ"
   ]
  },
  {
   "cell_type": "markdown",
   "id": "742737e8",
   "metadata": {},
   "source": [
    "2. กราฟเส้น การกำหนดสีของเส้น การกำหนดจุด Marker \n",
    "    - blue      ---> 'b'\n",
    "    - green     ---> 'g' \n",
    "    - red       ---> 'r' \n",
    "    - yellow    ---> 'y' \n",
    "    - cyan      ---> 'c' \n",
    "    - magenta   ---> 'm' \n",
    "    - black     ---> 'k' \n",
    "    - white     ---> 'w' \n",
    "2.1 ลักษณะของเส้น (linestyle)\n",
    "    - linestyle=\"-\" ---> เส้นทึบ\n",
    "    - linestyle=\"--\" ---> เส้นประ"
   ]
  },
  {
   "cell_type": "markdown",
   "id": "e9818dd9",
   "metadata": {},
   "source": [
    "3. เพิ่ม Label บอกรายละเอียดของแกน บันทึกกราฟเป็นไฟล์รูป \n",
    "    -   Title (กําหนดหัวข้อ)\n",
    "    -   plt.xlabel(\"x label\") plt.ylabel(\"y label\")\n",
    "    -   plt.title(“....”)\n",
    "    -   plt.title(“....\",{\"size\":20,\"color\":\"blue\"})//dict \n",
    "    -   plt.title(\"....”,{\"loc\":\"left\",\"color\":\"blue\"})//dict\n",
    "    -   plt.title(\"....”,loc=”center”)//location (default)\n",
    "    -   plt.title(\"....”,loc=”left”)\n",
    "    -   plt.title(\"....”,loc=”right”)"
   ]
  },
  {
   "cell_type": "markdown",
   "id": "96d852ee",
   "metadata": {},
   "source": [
    "4. การระบุชื่อของเส้นข้อมูล ว่าแต่ละสีคืออะไร \n",
    "## การวางตำแหน่งของ Legend function\n",
    "        Format String       |          Code\n",
    " ---------------------------|-----------------------------   \n",
    "    'best' (default)        |           0\n",
    "    'upper right'           |           1\n",
    "    'upper left'            |           2\n",
    "    'Lower left'            |           3\n",
    "    'Lower right'           |           4\n",
    "    'right'                 |           5\n",
    "    'center left'           |           6\n",
    "    'center right'          |           7\n",
    "    'lower  center'         |           8\n",
    "    'upper  center'         |           9         \n",
    "    'center'                |           10\n",
    "\n",
    "## การกำหนดขนาดข้อความใน Legend\n",
    "    ค่าคงที่ของ fontsize\n",
    "    \" xx-small, x-small, small\"\n",
    "    \"medium,large,x-large,xx-large\"\n",
    "\n",
    "## Face&Edge color Legend\n",
    "    - Facecolor สีของแผ่น legend\n",
    "        plt.legend(facecolor=\"red\")\n",
    "        plt.legend(facecolor=\"yellow\")\n",
    "    - Egdecolor สีของเส้น legend\n",
    "        plt.legend(edgecolor=\"red\")\n",
    "        plt.legend(facecolor=\"yellow\",edgecolor=\"red\")"
   ]
  },
  {
   "cell_type": "markdown",
   "id": "1edf891e",
   "metadata": {},
   "source": [
    "5. กราฟวงกลม สำหรับแสดงข้อมูลที่มีสัดส่วน 100% หรือเน้นส่วนที่สนใจเป็นพิเศษ"
   ]
  },
  {
   "cell_type": "markdown",
   "id": "28ba50d8",
   "metadata": {},
   "source": [
    "6. กราฟจุด (Scatter) \n",
    "สำหรับแสดงการกระจายของข้อมูลหรือแสดงความสัมพันธ์ระหว่าง 2 ค่า (x,y)"
   ]
  },
  {
   "cell_type": "markdown",
   "id": "8f5af434",
   "metadata": {},
   "source": [
    "7. กราฟฮิสโทแกรม (Histogram)\n",
    "    สำหรับแสดงความถี่ของข้อมูล เช่น เเสดงความถี่ของอายุลูกค้าที่ใช้บริการกับเรา (สำหรับข้อมูลไม่ต่อเนื่อง)"
   ]
  },
  {
   "cell_type": "markdown",
   "id": "8bf4c540",
   "metadata": {},
   "source": [
    "# 7.1 สุุ่มข้อมูลทำแผนภาพฮิสโทแกรม"
   ]
  },
  {
   "cell_type": "markdown",
   "id": "5372d7a8",
   "metadata": {},
   "source": [
    "# 7.2 Histogram 2 มิติ (2D histogram)"
   ]
  },
  {
   "cell_type": "markdown",
   "id": "2d86074c",
   "metadata": {},
   "source": [
    "8. กราฟแท่ง (Bar chart)"
   ]
  },
  {
   "cell_type": "markdown",
   "id": "3f5800c1",
   "metadata": {},
   "source": [
    "9. กราฟ Stackbar/Stackplot"
   ]
  },
  {
   "cell_type": "markdown",
   "id": "2f7724e6",
   "metadata": {},
   "source": [
    "EX. มีนักเรียน 3 ห้อง ในแต่ละห้องมีนักเรียนชายหญิง จงเเสดงเป็นอัตราส่วนผ่าน Stackbar"
   ]
  },
  {
   "cell_type": "markdown",
   "id": "815dd6e8",
   "metadata": {},
   "source": [
    "10. กราฟ Heatmap ของเมทริกซ์ 10x10"
   ]
  }
 ],
 "metadata": {
  "kernelspec": {
   "display_name": "Python 3",
   "language": "python",
   "name": "python3"
  },
  "language_info": {
   "codemirror_mode": {
    "name": "ipython",
    "version": 3
   },
   "file_extension": ".py",
   "mimetype": "text/x-python",
   "name": "python",
   "nbconvert_exporter": "python",
   "pygments_lexer": "ipython3",
   "version": "3.13.3"
  }
 },
 "nbformat": 4,
 "nbformat_minor": 5
}
