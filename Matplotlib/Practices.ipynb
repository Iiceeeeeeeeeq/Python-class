{
 "cells": [
  {
   "cell_type": "markdown",
   "id": "b0f754bd",
   "metadata": {},
   "source": [
    "                        <<<<<<<<<<<<<<<<<<<<<   \"แบบฝึกหัด\"   >>>>>>>>>>>>>>>>>>>>>"
   ]
  },
  {
   "cell_type": "markdown",
   "id": "55e69c4e",
   "metadata": {},
   "source": [
    "# 1. \n",
    "สร้างกราฟเส้นของฟังก์ชัน  𝑦 = sin (x)\n",
    "จาก -2π ถึง 2π"
   ]
  },
  {
   "cell_type": "markdown",
   "id": "1b9fdb19",
   "metadata": {},
   "source": [
    "# 2. วาดหลายเส้นกราฟในกราฟเดียว: sin(x), cos(x), tan(x)"
   ]
  },
  {
   "cell_type": "markdown",
   "id": "594d5bad",
   "metadata": {},
   "source": [
    "# 3. แสดงกราฟจุดกระจาย (scatter plot) ของจุดสุ่มในวงกลม"
   ]
  },
  {
   "cell_type": "markdown",
   "id": "650c329d",
   "metadata": {},
   "source": [
    "# 4.  แสดงภาพ grayscale จากเมทริกซ์ numpy"
   ]
  },
  {
   "cell_type": "markdown",
   "id": "1c684e23",
   "metadata": {},
   "source": [
    "# 5. วิเคราะห์ยอดขายรายเดือน (Monthly Sales Trends)\n",
    "โดยบริษัทมียอดขายในแต่ละเดือนของปี 2024 (12 เดือน) ให้พล็อตกราฟเส้น และใส่ marker แสดงจุดต่ำสุดและสูงสุด พร้อมกราฟค่าเฉลี่ย"
   ]
  },
  {
   "cell_type": "markdown",
   "id": "f789bdbd",
   "metadata": {},
   "source": [
    "# 6. แสดงการเปรียบเทียบยอดขายของร้านชานมไข่มุก 4 สาขาในปีเดียวกัน (Grouped Bar Chart) โดยใช้ bar chart ซึ่งเปรียบเทียบยอดขายแต่ละไตรมาสของ 4 สาขา"
   ]
  },
  {
   "cell_type": "markdown",
   "id": "2a1a9705",
   "metadata": {},
   "source": [
    "# 7. จงทำกราฟ Pie Chart แสดงการใช้เวลาทำงานของพนักงานในแผนก IT โดยใช้เวลาในการทำงานต่าง ๆ 5 ประเภท\n",
    "    Developer,Testing,Meetings,Support,Learning\n",
    "พร้อมเน้น (explode) งานที่ใช้เวลามากที่สุด"
   ]
  },
  {
   "cell_type": "markdown",
   "id": "41348cc8",
   "metadata": {},
   "source": [
    "# 8. จงสร้างกราฟพยากรณ์ยอดขายล่วงหน้า (Forecast with Trend Line)\n",
    "จากยอดขาย 12 เดือน ให้ fit เส้นตรงคาดการณ์เทรนด์ และวาดเส้นพยากรณ์อีก 3 เดือนล่วงหน้า"
   ]
  },
  {
   "cell_type": "markdown",
   "id": "18479011",
   "metadata": {},
   "source": [
    "# 9. สร้างข้อมูลสุ่ม 100 ค่า แล้วพล็อต histogram พร้อมเส้นค่าเฉลี่ย"
   ]
  },
  {
   "cell_type": "markdown",
   "id": "692ed9ed",
   "metadata": {},
   "source": [
    "# 10. วิเคราะห์อุณหภูมิของเมืองในแต่ละฤดู\n",
    "วิเคราะห์สภาพอากาศของกรมอุตุ\n",
    "Process: \n",
    "    - สร้างข้อมูลอุณหภูมิ 3 ฤดู (ร้อน, ฝน, หนาว) \n",
    "      โดยสุ่ม 90 วัน (30 วันต่อฤดู)\n",
    "    - คำนวณค่าเฉลี่ยและส่วนเบี่ยงเบนของแต่ละฤดู\n",
    "    - วาด boxplot เปรียบเทียบอุณหภูมิทั้ง 3 ฤดู"
   ]
  }
 ],
 "metadata": {
  "kernelspec": {
   "display_name": "Python 3",
   "language": "python",
   "name": "python3"
  },
  "language_info": {
   "codemirror_mode": {
    "name": "ipython",
    "version": 3
   },
   "file_extension": ".py",
   "mimetype": "text/x-python",
   "name": "python",
   "nbconvert_exporter": "python",
   "pygments_lexer": "ipython3",
   "version": "3.13.3"
  }
 },
 "nbformat": 4,
 "nbformat_minor": 5
}
