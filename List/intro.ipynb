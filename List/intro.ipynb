{
 "cells": [
  {
   "cell_type": "markdown",
   "id": "04b7510b",
   "metadata": {},
   "source": [
    "List = การเก็บข้อมูลโดยเเบ่งเป็น List เอาไว้ ทำให้สมารถดึงข้อมูล\n",
    "ไปใช้งานได้ง่ายขึ้น โดยการดึงอาจจะดึงด้วยตำแหน่ง"
   ]
  },
  {
   "cell_type": "markdown",
   "id": "50101a31",
   "metadata": {},
   "source": [
    "1. การค้นหาข้อมูลในลิสต์ (Serach)"
   ]
  },
  {
   "cell_type": "code",
   "execution_count": null,
   "id": "452cee85",
   "metadata": {},
   "outputs": [],
   "source": [
    "blackpink = [\"jenny\",\"rose\",\"lisa\",\"jisoo\"]\n",
    "print(blackpink[-0])\n",
    "print(blackpink[-1])\n",
    "print(blackpink[-2])\n",
    "print(blackpink[-3])\n",
    "print(blackpink[-4])"
   ]
  },
  {
   "cell_type": "markdown",
   "id": "6896237b",
   "metadata": {},
   "source": [
    "2.การเพิ่มข้อมูลในลิสต์ (replace)"
   ]
  },
  {
   "cell_type": "code",
   "execution_count": null,
   "id": "a9fa2f3c",
   "metadata": {},
   "outputs": [],
   "source": [
    "blackpink = [\"jenny\",\"rose\",\"lisa\",\"jisoo\"]\n",
    "blackpink[0]=\"ice\"\n",
    "blackpink[3]=\"emma\"\n",
    "print(blackpink)"
   ]
  },
  {
   "cell_type": "markdown",
   "id": "00f9381d",
   "metadata": {},
   "source": [
    "3. เพิ่มข้อมูลในลิสต์(append)"
   ]
  },
  {
   "cell_type": "code",
   "execution_count": null,
   "id": "d38881d0",
   "metadata": {},
   "outputs": [],
   "source": [
    "blackpink = [\"jenny\",\"rose\",\"lisa\",\"jisoo\"]\n",
    "blackpink.append(\"emma\")\n",
    "print(blackpink)"
   ]
  },
  {
   "cell_type": "markdown",
   "id": "1257f77b",
   "metadata": {},
   "source": [
    "4. การเพิ่มข้อมูลในลิสต์ (insert)"
   ]
  },
  {
   "cell_type": "code",
   "execution_count": null,
   "id": "37afc745",
   "metadata": {},
   "outputs": [],
   "source": [
    "blackpink = [\"jenny\",\"rose\",\"lisa\",\"jisoo\"]\n",
    "blackpink.insert(0,\"emma\")\n",
    "blackpink.insert(1,\"ice\")\n",
    "print(blackpink)"
   ]
  },
  {
   "cell_type": "markdown",
   "id": "fd2a78b3",
   "metadata": {},
   "source": [
    "5. ลบข้อมูลในลิสต์ removel() del()"
   ]
  },
  {
   "cell_type": "code",
   "execution_count": null,
   "id": "d2ea3135",
   "metadata": {},
   "outputs": [],
   "source": [
    "blackpink = [\"emma\",\"ice\",\"jenny\",\"rose\",\"lisa\",\"jisoo\"]\n",
    "blackpink.remove(\"ice\")\n",
    "del blackpink[0]\n",
    "print(blackpink)"
   ]
  },
  {
   "cell_type": "markdown",
   "id": "3b785cc7",
   "metadata": {},
   "source": [
    "6. การเชื่อมต่อข้อมูลของเเต่ละลิสต์เข้าด้วยกัน"
   ]
  },
  {
   "cell_type": "code",
   "execution_count": null,
   "id": "b15d143d",
   "metadata": {},
   "outputs": [],
   "source": [
    "fruits= [\"apple\",\"watermelon\",\"grape\",\"kiwi\"]\n",
    "blackpink = [\"jenny\",\"rose\",\"lisa\",\"jisoo\"]\n",
    "print(blackpink[0:2]) #[0=ตน.เริ่มต้น:2=จำนวนตัว]\n",
    "fruits_blackpink=fruits+blackpink\n",
    "print(fruits_blackpink)"
   ]
  }
 ],
 "metadata": {
  "language_info": {
   "name": "python"
  }
 },
 "nbformat": 4,
 "nbformat_minor": 5
}
