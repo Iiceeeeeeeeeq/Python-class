{
 "cells": [
  {
   "cell_type": "markdown",
   "id": "c26dcdf9",
   "metadata": {},
   "source": [
    "#เป็นชนิดข้อมูลในรูปแบบของความสัมพันธ์ระหว่าง key และ value\n",
    "# keyตัวที่ 1 : value1"
   ]
  },
  {
   "cell_type": "code",
   "execution_count": null,
   "id": "f4b92c64",
   "metadata": {},
   "outputs": [],
   "source": [
    "rating_dict = {\n",
    "    \"A\" : \"Excellent\",\n",
    "    \"B\" : \"very good\",\n",
    "    \"C\" : \"fair\",\n",
    "    \"D\" : \"poor\"\n",
    "}\n",
    "print(rating_dict)\n",
    "\n",
    "grade_a = rating_dict[\"A\"]\n",
    "print(grade_a)\n",
    "grade_b = rating_dict[\"B\"]\n",
    "print(grade_b)"
   ]
  },
  {
   "cell_type": "markdown",
   "id": "a381cf43",
   "metadata": {},
   "source": [
    "แสดงการค้นหาข้อมูลในดิกชันนารีโดยใช้ get(key) --> บอก \"value\""
   ]
  },
  {
   "cell_type": "code",
   "execution_count": null,
   "id": "ddf2edf2",
   "metadata": {},
   "outputs": [],
   "source": [
    "number_dict = {\n",
    "    1 : \"one\",\n",
    "    2 : \"two\",\n",
    "    3 : \"three\",\n",
    "    4 : \"four\"\n",
    "}\n",
    "num1 = number_dict.get(4) \n",
    "print(num1)"
   ]
  },
  {
   "cell_type": "markdown",
   "id": "0ae1e59f",
   "metadata": {},
   "source": [
    "การแก้ไขข้อมูลในดิกชันนารี / เปลี่ยนข้อมูลในดิก"
   ]
  },
  {
   "cell_type": "code",
   "execution_count": null,
   "id": "546a10e6",
   "metadata": {},
   "outputs": [],
   "source": [
    "number_dict = {\n",
    "    1 : \"one\",\n",
    "    2 : \"two\",\n",
    "    3 : \"three\",\n",
    "    4 : \"four\"\n",
    "}\n",
    "number_dict[1] = \"Zero\"\n",
    "print(number_dict)"
   ]
  },
  {
   "cell_type": "markdown",
   "id": "8471c1e7",
   "metadata": {},
   "source": [
    "การเพิ่มข้อมูลภายใน Dictionary"
   ]
  },
  {
   "cell_type": "code",
   "execution_count": null,
   "id": "838f16b6",
   "metadata": {},
   "outputs": [],
   "source": [
    "number_dict = {\n",
    "    1 : \"one\",\n",
    "    2 : \"two\",\n",
    "    3 : \"three\",\n",
    "    4 : \"four\"\n",
    "}\n",
    "number_dict[5] = \"five\" #ชื่อดิก[key] = \"value\"\n",
    "print(number_dict)"
   ]
  },
  {
   "cell_type": "markdown",
   "id": "5c1dcae1",
   "metadata": {},
   "source": [
    "การลบข้อมูลภายใน Dictionary pop(),del()"
   ]
  },
  {
   "cell_type": "code",
   "execution_count": null,
   "id": "1a8916d8",
   "metadata": {},
   "outputs": [],
   "source": [
    "number_dict = {\n",
    "    1 : \"one\",\n",
    "    2 : \"two\",\n",
    "    3 : \"three\",\n",
    "    4 : \"four\"\n",
    "}\n",
    "number_dict.pop(3)\n",
    "# print(number_dict)\n",
    "\n",
    "del number_dict[4]\n",
    "print(number_dict)"
   ]
  },
  {
   "cell_type": "markdown",
   "id": "91645cf8",
   "metadata": {},
   "source": [
    "#Merge - รวมข้อมูลในดิกเข้าด้วยกัน โดยใช้เครื่องหมาย | (ทับข้อมูลตาม key)\n",
    "#Update - ใช้เครื่องหมาย |="
   ]
  },
  {
   "cell_type": "code",
   "execution_count": null,
   "id": "a0f04b55",
   "metadata": {},
   "outputs": [],
   "source": [
    "a= {\n",
    "    \"A\" : \"ant\",\n",
    "    \"B\" : \"bird\",\n",
    "    \"C\" : \"cat\"\n",
    "}\n",
    "b = {\n",
    "    \"A\" : \"and\",\n",
    "    \"B\" : \"boy\",\n",
    "}\n",
    "c = {\n",
    "    \"A\" : 1,\n",
    "    \"D\" : 2\n",
    "}\n",
    "\n",
    "x=a|b\n",
    "print (x)\n",
    "y=b|c\n",
    "print (y)\n",
    "z= a|b|c\n",
    "print (z)"
   ]
  }
 ],
 "metadata": {
  "language_info": {
   "name": "python"
  }
 },
 "nbformat": 4,
 "nbformat_minor": 5
}
