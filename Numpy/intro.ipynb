{
 "cells": [
  {
   "cell_type": "markdown",
   "id": "20ec097a",
   "metadata": {},
   "source": [
    "สรุป :\n",
    "1.  NumPy เป็นคลังคําสั่งที่ให้บริการมากมายเกี่ยวกับการคํานวณทางวิทยาศาสตร์\n",
    "    โดยมีที่เก็บข้อมูลที่เรียกว่า อาเรย์ n มิติ (ndarray) มีไว้เก็บข้อมูลเพื่อการประมวลผลที่มีประสิทธิภาพมากๆ\n",
    "2.  อาเรย์มีลักษณะคล้ายลิสต์ แต่สร้างแล้วเปลี่ยนขนาดไม่ได้\n",
    "3.  ค่าในอาเรย์ทุกช่องต้องเป็นประเภทเดียวกันทั้งหมด เช่น เป็น int ทุกช่อง หรือ float ทุกช่อง\n",
    "    (ผสมกันไม่ได้ ถ้าเป็นลิสต์ผสมได้)\n",
    "4.  เราสร้าง เวกเตอร์ ได้ด้วยอาเรย์ 1 มิติ และสร้าง เมทริกซ์ ได้ด้วยอาเรย์ 2 มิติ"
   ]
  },
  {
   "cell_type": "markdown",
   "id": "12d6cdf4",
   "metadata": {},
   "source": [
    "1. type ของข้อมูล \"ndarray: N-Dimensional array\" อาร์เรย์หลายมิติ ถูกเก็บข้อมูลอย่างต่อเนื่องเเละประมวลผลได้อย่างมีประสิทธิภาพ"
   ]
  },
  {
   "cell_type": "code",
   "execution_count": null,
   "id": "31b0b610",
   "metadata": {},
   "outputs": [
    {
     "name": "stdout",
     "output_type": "stream",
     "text": [
      "[1 2 3]\n",
      "<class 'numpy.ndarray'>\n"
     ]
    }
   ],
   "source": [
    "import numpy as np\n",
    "x = np.array([1,2,3]) #1 มิติ\n",
    "print(x)\n",
    "print(type(x)) "
   ]
  },
  {
   "cell_type": "markdown",
   "id": "902155eb",
   "metadata": {},
   "source": [
    "2. การหาขนาด/มิติ ในอาร์เรย์ โดยจะบอกขนาดของเเถวและคอลัมน์"
   ]
  },
  {
   "cell_type": "code",
   "execution_count": null,
   "id": "4bcfa8ef",
   "metadata": {},
   "outputs": [
    {
     "name": "stdout",
     "output_type": "stream",
     "text": [
      "(2, 3)\n",
      "6\n",
      "<class 'int'>\n"
     ]
    }
   ],
   "source": [
    "import numpy as np\n",
    "b = np.array([[1,2,0],[3,4,6]])\n",
    "print(b.shape) #(2,3)-->(Rows,Col) \n",
    "print(b.size) #(2,3)-->(Rows,Col)\n",
    "print(type(b.size)) \n"
   ]
  },
  {
   "cell_type": "markdown",
   "id": "97fc1cbc",
   "metadata": {},
   "source": [
    "3. เปลี่ยนค่าในเมทริกซ์ "
   ]
  },
  {
   "cell_type": "code",
   "execution_count": null,
   "id": "309da2d5",
   "metadata": {},
   "outputs": [
    {
     "name": "stdout",
     "output_type": "stream",
     "text": [
      "[[5 2 0]\n",
      " [3 4 6]]\n"
     ]
    }
   ],
   "source": [
    "import numpy as np\n",
    "b = np.array([[1,2,0],[3,4,6]])\n",
    "b[0,0] = 5  #เปลี่ยนเลข(1)-->(5)\n",
    "print(b)"
   ]
  },
  {
   "cell_type": "markdown",
   "id": "53af64fc",
   "metadata": {},
   "source": [
    "4. การสร้างเมทริกซ์ 0"
   ]
  },
  {
   "cell_type": "code",
   "execution_count": null,
   "id": "e60e8bb7",
   "metadata": {},
   "outputs": [],
   "source": [
    "import numpy as np\n",
    "zeros= np.zeros((2,2))\n",
    "print(zeros)"
   ]
  },
  {
   "cell_type": "markdown",
   "id": "1f06bb7e",
   "metadata": {},
   "source": [
    "5. การสร้างเมทริกซ์เอกลักษณ์"
   ]
  },
  {
   "cell_type": "code",
   "execution_count": null,
   "id": "2acbb76a",
   "metadata": {},
   "outputs": [],
   "source": [
    "import numpy as np\n",
    "identity = np.eye(5) #เปลี่ยนเลข(5)-->มิติ 5x5\n",
    "print(identity)"
   ]
  },
  {
   "cell_type": "markdown",
   "id": "747d6776",
   "metadata": {},
   "source": [
    "6. เปลี่ยนทุกตัวเลขทุกตัวเป็นเลขตัวนั้น"
   ]
  },
  {
   "cell_type": "code",
   "execution_count": null,
   "id": "acaf8012",
   "metadata": {},
   "outputs": [],
   "source": [
    "import numpy as np\n",
    "six = np.full((3,3),6) #((Row,Col),เลข)\n",
    "print(six)"
   ]
  },
  {
   "cell_type": "markdown",
   "id": "4f87f514",
   "metadata": {},
   "source": [
    "7. สุ่มตัวเลขในเมทริกซ์"
   ]
  },
  {
   "cell_type": "code",
   "execution_count": null,
   "id": "37c9afde",
   "metadata": {},
   "outputs": [],
   "source": [
    "import numpy as np\n",
    "random = np.random.random((3,3))\n",
    "print(random)"
   ]
  },
  {
   "cell_type": "markdown",
   "id": "a2d58802",
   "metadata": {},
   "source": [
    "8. ค้นหาตำแหน่่งของข้อมูลในอาเรย์"
   ]
  },
  {
   "cell_type": "code",
   "execution_count": null,
   "id": "57d449b0",
   "metadata": {},
   "outputs": [],
   "source": [
    "import numpy as np\n",
    "a = np.array([2,3,4,5,1,2])\n",
    "print(np.where(a%2==0)) #(array([0, 2, 5]),) >>> ตน."
   ]
  },
  {
   "cell_type": "markdown",
   "id": "5267734d",
   "metadata": {},
   "source": [
    "9. การหาค่าเปอร์เซ็นไทล์ที่ 25, 50, เเละ 75 "
   ]
  },
  {
   "cell_type": "code",
   "execution_count": null,
   "id": "c0273097",
   "metadata": {},
   "outputs": [],
   "source": [
    "import numpy as np\n",
    "data = np.array([1,2,3,4,5,6,7,8,9,10])\n",
    "print(np.percentile(data,50))\n",
    "print(np.percentile(data,25,axis=0)) #axis = 0 แกนตั้ง\n",
    "print(np.percentile(data,75))"
   ]
  },
  {
   "cell_type": "markdown",
   "id": "2b734e83",
   "metadata": {},
   "source": [
    "10. การดำเนินการในเมทริกซ์ \n",
    "    รวมเมทริกซ์(sum), การคูณเมทริกซ์(prod),  Root(sqrt),\n",
    "    ดีเทอร์มิเเนนท์(det),ฟังก์ชันผกผัน(inverse)"
   ]
  },
  {
   "cell_type": "code",
   "execution_count": null,
   "id": "6a204a8b",
   "metadata": {},
   "outputs": [],
   "source": [
    "import numpy as np\n",
    "emma = np.array([[1,9,3],[3,4,0],[1,-5,0]])\n",
    "ice = np.array([1,-3,0], float)\n",
    "print(emma+ice)\n",
    "print(emma.sum())\n",
    "print(emma.prod())\n",
    "print(np.sqrt(emma))\n",
    "x = np.linalg.det(emma) #หา det ของเมทริกซ์\n",
    "result = round(x)\n",
    "print(\"det=\",result )\n",
    "in_ = (np.linalg.inv(emma)) #หา inverse ของเมทริกซ์\n",
    "print(\"inverse=\",in_)"
   ]
  },
  {
   "cell_type": "markdown",
   "id": "73cd359c",
   "metadata": {},
   "source": [
    "11. การหาค่าเฉลี่ย, ส่วนเบี่ยงเบนมาตรฐาน(SD) , ความแปรปรวน(V=SD**2)"
   ]
  },
  {
   "cell_type": "code",
   "execution_count": null,
   "id": "93f10366",
   "metadata": {},
   "outputs": [],
   "source": [
    "import numpy as np\n",
    "\n",
    "emma = np.array([[1,9,3],[3,4,0],[1,-5,0]])\n",
    "print(emma.mean()) #ค่าเฉลี่ยของข้อมูล คือการเอาข้อมูลหลายๆค่ามาเฉลี่ย \n",
    "print(emma.std()) #ส่วนเบี่ยงเบนมาตรฐาน\n",
    "print(emma.var()) #ค่าความแปรปรวน"
   ]
  },
  {
   "cell_type": "markdown",
   "id": "5d9c8f3d",
   "metadata": {},
   "source": [
    "12. การหาค่าสูงสุด,ต่ำสุด (max,min) แบ่งเปรียบเทียบตามแกน (หลัก:axis=0) (แถว:axis=1) "
   ]
  },
  {
   "cell_type": "code",
   "execution_count": null,
   "id": "15b0a233",
   "metadata": {},
   "outputs": [],
   "source": [
    "import numpy as np\n",
    "\n",
    "emma = np.array([[1,9,3],[3,4,0],[1,-5,0]])\n",
    "print(emma.max(axis=0)) #เทียบกันเองตามหลัก [3,9,3]\n",
    "print(emma.max(axis=1)) #เทียบกันเองตามแถว [9,4,1]"
   ]
  }
 ],
 "metadata": {
  "kernelspec": {
   "display_name": "Python 3",
   "language": "python",
   "name": "python3"
  },
  "language_info": {
   "codemirror_mode": {
    "name": "ipython",
    "version": 3
   },
   "file_extension": ".py",
   "mimetype": "text/x-python",
   "name": "python",
   "nbconvert_exporter": "python",
   "pygments_lexer": "ipython3",
   "version": "3.13.3"
  }
 },
 "nbformat": 4,
 "nbformat_minor": 5
}
